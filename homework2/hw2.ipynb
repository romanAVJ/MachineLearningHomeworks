{
 "cells": [
  {
   "cell_type": "markdown",
   "metadata": {},
   "source": [
    "Tarea 2: Perceptrón y MSV \n",
    "----\n",
    "Román Alberto Vélez Jiménez, CU: 165462\n"
   ]
  },
  {
   "cell_type": "code",
   "execution_count": 4,
   "metadata": {},
   "outputs": [],
   "source": [
    "import numpy as np\n",
    "import pandas as pd\n",
    "import matplotlib.pyplot as plt\n",
    "\n",
    "# own functions\n",
    "from svm_gradiente import svm_gradient\n",
    "from svm_gds import svm_sgd"
   ]
  },
  {
   "cell_type": "markdown",
   "metadata": {},
   "source": [
    "## Toy data\n",
    "Para ver que correctamente se están ejecutando los métodos, antes de probarlos con el iris set data, los probaremos con datos simulados que sabemos que son linealmente separables"
   ]
  },
  {
   "cell_type": "code",
   "execution_count": 4,
   "metadata": {},
   "outputs": [
    {
     "data": {
      "image/png": "[encoded data removed]",
      "text/plain": [
       "<Figure size 432x288 with 1 Axes>"
      ]
     },
     "metadata": {
      "needs_background": "light"
     },
     "output_type": "display_data"
    }
   ],
   "source": [
    "#toy data set\n",
    "np.random.seed(1)\n",
    "x_test = np.random.randn(6,2) - 2\n",
    "x_test = np.vstack((x_test, np.random.randn(4,2) + 2))\n",
    "y_test = np.array([-1 if x < 6 else 1 for x in range(10)])\n",
    "\n",
    "#hyper paramethers\n",
    "lambd_test = 1\n",
    "rho_test = 0.1\n",
    "tol_test = 1e-3\n",
    "max_iter = 100\n",
    "\n",
    "# # look linear separable data\n",
    "x = x_test[:,0]\n",
    "y = x_test[:,1]\n",
    "t = np.linspace(x.min(), x.max())\n",
    "\n",
    "fig = plt.figure()\n",
    "ax = fig.add_subplot()\n",
    "ax.scatter(x, y, c=y_test)\n",
    "plt.show()\n"
   ]
  },
  {
   "cell_type": "markdown",
   "metadata": {},
   "source": [
    "SVM\n",
    "---\n",
    "\n",
    "Veamos con el toy data que el svm está funcionando correctamente\n"
   ]
  },
  {
   "cell_type": "code",
   "execution_count": 5,
   "metadata": {},
   "outputs": [
    {
     "name": "stdout",
     "output_type": "stream",
     "text": [
      "Reached optimum at k = 5\n"
     ]
    },
    {
     "data": {
      "image/png": "[encoded data removed]",
      "text/plain": [
       "<Figure size 432x288 with 1 Axes>"
      ]
     },
     "metadata": {
      "needs_background": "light"
     },
     "output_type": "display_data"
    }
   ],
   "source": [
    "# test SVM Gradient (is ok)\n",
    "th_ans, th0_ans, k_ans = svm_gradient(x_test, y_test, rho_test, lambd_test, tol_test, max_iter)\n",
    "\n",
    "# # look data and SVM\n",
    "t = np.linspace(x.min(), x.max())\n",
    "\n",
    "fig = plt.figure()\n",
    "ax = fig.add_subplot()\n",
    "ax.scatter(x, y, c=y_test)\n",
    "ax.plot(t, -(th_ans[k_ans][0] * t + th0_ans[k_ans]) / th_ans[k_ans][1], color='lightblue')\n",
    "plt.show()\n"
   ]
  },
  {
   "cell_type": "markdown",
   "metadata": {},
   "source": [
    "SVM estocástico\n",
    "---\n",
    "\n",
    "Veamos con el toy data que el svm estocástico está funcionando correctamente. Pondremos una semilla para que el índice estocástico sea siempre el mismo."
   ]
  },
  {
   "cell_type": "code",
   "execution_count": null,
   "metadata": {},
   "outputs": [],
   "source": [
    "# test SVM Stochastic Gradient (is ok)\n",
    "th_ans, th0_ans, k_ans = svm_sgd(x_test, y_test, rho_test, lambd_test, tol_test, max_iter)\n",
    "\n",
    "# # look data and SVM\n",
    "t = np.linspace(x.min(), x.max())\n",
    "\n",
    "fig = plt.figure()\n",
    "ax = fig.add_subplot()\n",
    "ax.scatter(x, y, c=y_test)\n",
    "ax.plot(t, -(th_ans[k_ans][0] * t + th0_ans[k_ans]) / th_ans[k_ans][1], color='lightblue')\n",
    "plt.show()\n"
   ]
  },
  {
   "cell_type": "code",
   "execution_count": null,
   "metadata": {},
   "outputs": [],
   "source": []
  }
 ],
 "metadata": {
  "kernelspec": {
   "display_name": "Python 3",
   "language": "python",
   "name": "python3"
  },
  "language_info": {
   "codemirror_mode": {
    "name": "ipython",
    "version": 3
   },
   "file_extension": ".py",
   "mimetype": "text/x-python",
   "name": "python",
   "nbconvert_exporter": "python",
   "pygments_lexer": "ipython3",
   "version": "3.7.7"
  }
 },
 "nbformat": 4,
 "nbformat_minor": 4
}
